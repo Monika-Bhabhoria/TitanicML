{
 "cells": [
  {
   "cell_type": "code",
   "execution_count": 1,
   "id": "9572e5cd",
   "metadata": {},
   "outputs": [],
   "source": [
    "import numpy as np \n",
    "import pandas as pd\n",
    "import matplotlib.pyplot as plt\n",
    "from sklearn import preprocessing"
   ]
  },
  {
   "cell_type": "code",
   "execution_count": 2,
   "id": "1557a249",
   "metadata": {},
   "outputs": [],
   "source": [
    "df=pd.read_csv(\"train.csv\")"
   ]
  },
  {
   "cell_type": "code",
   "execution_count": 3,
   "id": "149cb27b",
   "metadata": {},
   "outputs": [],
   "source": [
    "df_test=pd.read_csv(\"test.csv\")"
   ]
  },
  {
   "cell_type": "code",
   "execution_count": 4,
   "id": "f0e49e02",
   "metadata": {},
   "outputs": [],
   "source": [
    "def cleanData(df):\n",
    "    le=preprocessing.LabelEncoder()\n",
    "    df['married']= df[\"Name\"].apply(lambda x:1 if(\"Mrs\" in x) else 0)\n",
    "    df=df.drop(\"Name\", axis=\"columns\")\n",
    "    df['Cabin']=df[\"Cabin\"].astype(str).str[0]\n",
    "    df['Cabin']=le.fit_transform(df['Cabin'])\n",
    "    df=df.drop(\"Ticket\", axis=\"columns\")\n",
    "    df[\"Sex\"]=df[\"Sex\"].apply(lambda x:1 if(\"female\" in x) else 0)\n",
    "    \n",
    "    #age\n",
    "    \n",
    "    df['Age'] = df['Age'].fillna(df['Age'].median())\n",
    "    df['Fare'] = df['Fare'].fillna(df['Fare'].median())\n",
    "    \n",
    "    #Embark\n",
    "    embarked_mode = df['Embarked'].mode()\n",
    "    df['Embarked']=df['Embarked'].fillna(embarked_mode)\n",
    "    df['Embarked']=le.fit_transform(df['Embarked'])\n",
    "    \n",
    "    #relative\n",
    "    df['relative']=df['Parch']+df['SibSp']\n",
    "    df['Alone']=df[\"relative\"].apply(lambda x:0 if(x>1) else 1)\n",
    "    \n",
    "    df=df.drop(\"relative\", axis=\"columns\")\n",
    "    return df\n",
    " \n",
    "    "
   ]
  },
  {
   "cell_type": "code",
   "execution_count": 5,
   "id": "2604cc89",
   "metadata": {},
   "outputs": [],
   "source": [
    "df=cleanData(df)\n",
    "df_test=cleanData(df_test)"
   ]
  },
  {
   "cell_type": "code",
   "execution_count": 6,
   "id": "f2f60509",
   "metadata": {},
   "outputs": [
    {
     "data": {
      "text/html": [
       "<div>\n",
       "<style scoped>\n",
       "    .dataframe tbody tr th:only-of-type {\n",
       "        vertical-align: middle;\n",
       "    }\n",
       "\n",
       "    .dataframe tbody tr th {\n",
       "        vertical-align: top;\n",
       "    }\n",
       "\n",
       "    .dataframe thead th {\n",
       "        text-align: right;\n",
       "    }\n",
       "</style>\n",
       "<table border=\"1\" class=\"dataframe\">\n",
       "  <thead>\n",
       "    <tr style=\"text-align: right;\">\n",
       "      <th></th>\n",
       "      <th>PassengerId</th>\n",
       "      <th>Survived</th>\n",
       "      <th>Pclass</th>\n",
       "      <th>Sex</th>\n",
       "      <th>Age</th>\n",
       "      <th>SibSp</th>\n",
       "      <th>Parch</th>\n",
       "      <th>Fare</th>\n",
       "      <th>Cabin</th>\n",
       "      <th>Embarked</th>\n",
       "      <th>married</th>\n",
       "      <th>Alone</th>\n",
       "    </tr>\n",
       "  </thead>\n",
       "  <tbody>\n",
       "    <tr>\n",
       "      <th>0</th>\n",
       "      <td>1</td>\n",
       "      <td>0</td>\n",
       "      <td>3</td>\n",
       "      <td>0</td>\n",
       "      <td>22.0</td>\n",
       "      <td>1</td>\n",
       "      <td>0</td>\n",
       "      <td>7.25</td>\n",
       "      <td>8</td>\n",
       "      <td>2</td>\n",
       "      <td>0</td>\n",
       "      <td>1</td>\n",
       "    </tr>\n",
       "  </tbody>\n",
       "</table>\n",
       "</div>"
      ],
      "text/plain": [
       "   PassengerId  Survived  Pclass  Sex   Age  SibSp  Parch  Fare  Cabin  \\\n",
       "0            1         0       3    0  22.0      1      0  7.25      8   \n",
       "\n",
       "   Embarked  married  Alone  \n",
       "0         2        0      1  "
      ]
     },
     "execution_count": 6,
     "metadata": {},
     "output_type": "execute_result"
    }
   ],
   "source": [
    "df.head().sample()"
   ]
  },
  {
   "cell_type": "code",
   "execution_count": 7,
   "id": "2d17bd72",
   "metadata": {},
   "outputs": [],
   "source": [
    "from sklearn.linear_model import LogisticRegression\n",
    "from sklearn.neighbors import KNeighborsClassifier"
   ]
  },
  {
   "cell_type": "code",
   "execution_count": 8,
   "id": "86b98eec",
   "metadata": {},
   "outputs": [],
   "source": [
    "from sklearn.model_selection import train_test_split\n",
    "from sklearn.ensemble import AdaBoostClassifier, RandomForestClassifier\n",
    "from xgboost import XGBClassifier"
   ]
  },
  {
   "cell_type": "code",
   "execution_count": 9,
   "id": "7dffc8ca",
   "metadata": {},
   "outputs": [],
   "source": [
    "Y=df['Survived']\n",
    "X=df.drop('Survived',axis=1)"
   ]
  },
  {
   "cell_type": "code",
   "execution_count": 10,
   "id": "431d2cab",
   "metadata": {},
   "outputs": [],
   "source": [
    "X_train,X_test,Y_train,Y_test=train_test_split(X,Y,test_size=0.2,random_state=42)"
   ]
  },
  {
   "cell_type": "code",
   "execution_count": 22,
   "id": "05bc65bb",
   "metadata": {},
   "outputs": [],
   "source": [
    "clf=LogisticRegression(max_iter=7600).fit(X_train,Y_train)"
   ]
  },
  {
   "cell_type": "code",
   "execution_count": 25,
   "id": "8b58be8b",
   "metadata": {},
   "outputs": [
    {
     "name": "stdout",
     "output_type": "stream",
     "text": [
      "0.7988826815642458\n"
     ]
    },
    {
     "data": {
      "text/plain": [
       "array([0.81005587, 0.79775281, 0.78089888, 0.79775281, 0.80898876])"
      ]
     },
     "execution_count": 25,
     "metadata": {},
     "output_type": "execute_result"
    }
   ],
   "source": [
    "pred=clf.predict(X_test)\n",
    "from sklearn.metrics import accuracy_score\n",
    "from sklearn.model_selection import cross_val_score\n",
    "score=accuracy_score(Y_test,pred)\n",
    "print(score)\n",
    "CrossScore = cross_val_score(clf, X, Y, cv=5)\n",
    "CrossScore"
   ]
  },
  {
   "cell_type": "code",
   "execution_count": 26,
   "id": "8cdafa77",
   "metadata": {},
   "outputs": [
    {
     "name": "stdout",
     "output_type": "stream",
     "text": [
      "0.7877094972067039\n"
     ]
    },
    {
     "data": {
      "text/plain": [
       "array([0.81005587, 0.79775281, 0.78089888, 0.79775281, 0.80898876])"
      ]
     },
     "execution_count": 26,
     "metadata": {},
     "output_type": "execute_result"
    }
   ],
   "source": [
    "#Adaboost\n",
    "adaboost = AdaBoostClassifier()\n",
    "\n",
    "adaboost.fit(X_train,Y_train)\n",
    "pred=adaboost.predict(X_test)\n",
    "score=accuracy_score(Y_test,pred)\n",
    "print(score)\n",
    "CrossScore = cross_val_score(clf, X, Y, cv=5)\n",
    "CrossScore"
   ]
  },
  {
   "cell_type": "code",
   "execution_count": 27,
   "id": "fc38146f",
   "metadata": {},
   "outputs": [
    {
     "name": "stdout",
     "output_type": "stream",
     "text": [
      "0.7821229050279329\n"
     ]
    },
    {
     "data": {
      "text/plain": [
       "array([0.81005587, 0.79775281, 0.78089888, 0.79775281, 0.80898876])"
      ]
     },
     "execution_count": 27,
     "metadata": {},
     "output_type": "execute_result"
    }
   ],
   "source": [
    "#XGB\n",
    "xg = XGBClassifier()\n",
    "xg.fit(X_train,Y_train)\n",
    "pred = xg.predict(X_test)\n",
    "score=accuracy_score(Y_test,pred)\n",
    "print(score)\n",
    "CrossScore = cross_val_score(clf, X, Y, cv=5)\n",
    "CrossScore"
   ]
  },
  {
   "cell_type": "code",
   "execution_count": 28,
   "id": "c6760daa",
   "metadata": {},
   "outputs": [
    {
     "name": "stdout",
     "output_type": "stream",
     "text": [
      "0.8324022346368715\n"
     ]
    },
    {
     "data": {
      "text/plain": [
       "array([0.81005587, 0.79775281, 0.78089888, 0.79775281, 0.80898876])"
      ]
     },
     "execution_count": 28,
     "metadata": {},
     "output_type": "execute_result"
    }
   ],
   "source": [
    "#random Forest\n",
    "random_forest = RandomForestClassifier(n_estimators=100)\n",
    "random_forest.fit(X_train,Y_train)\n",
    "pred = random_forest.predict(X_test)\n",
    "score=accuracy_score(Y_test,pred)\n",
    "print(score)\n",
    "CrossScore = cross_val_score(clf, X, Y, cv=5)\n",
    "CrossScore"
   ]
  },
  {
   "cell_type": "code",
   "execution_count": 16,
   "id": "888f66c6",
   "metadata": {},
   "outputs": [],
   "source": [
    "sub_pred=random_forest.predict(df_test)\n"
   ]
  },
  {
   "cell_type": "code",
   "execution_count": 17,
   "id": "383672b0",
   "metadata": {},
   "outputs": [],
   "source": [
    "test_ids=df_test['PassengerId']"
   ]
  },
  {
   "cell_type": "code",
   "execution_count": 18,
   "id": "e581a954",
   "metadata": {},
   "outputs": [],
   "source": [
    "dataF=pd.DataFrame({\"PassengerID\":test_ids.values,\"survived\":sub_pred})"
   ]
  },
  {
   "cell_type": "code",
   "execution_count": 19,
   "id": "2175416d",
   "metadata": {},
   "outputs": [],
   "source": [
    "dataF.to_csv(\"sub.csv\",index=False)"
   ]
  },
  {
   "cell_type": "code",
   "execution_count": null,
   "id": "cd823029",
   "metadata": {},
   "outputs": [],
   "source": []
  },
  {
   "cell_type": "code",
   "execution_count": null,
   "id": "2c7e94bb",
   "metadata": {},
   "outputs": [],
   "source": []
  }
 ],
 "metadata": {
  "kernelspec": {
   "display_name": "Python 3 (ipykernel)",
   "language": "python",
   "name": "python3"
  },
  "language_info": {
   "codemirror_mode": {
    "name": "ipython",
    "version": 3
   },
   "file_extension": ".py",
   "mimetype": "text/x-python",
   "name": "python",
   "nbconvert_exporter": "python",
   "pygments_lexer": "ipython3",
   "version": "3.9.6"
  }
 },
 "nbformat": 4,
 "nbformat_minor": 5
}
